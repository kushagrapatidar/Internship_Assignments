{
 "cells": [
  {
   "cell_type": "code",
   "execution_count": 1,
   "metadata": {},
   "outputs": [],
   "source": [
    "import cv2\n",
    "import numpy as np\n",
    "from sklearn.ensemble import IsolationForest\n"
   ]
  },
  {
   "cell_type": "code",
   "execution_count": 2,
   "metadata": {},
   "outputs": [],
   "source": [
    "def detect_and_localize_defects(image_path):\n",
    "\n",
    "    fabric = cv2.imread(image_path)\n",
    "\n",
    "    grayscale_image = cv2.cvtColor(fabric, cv2.COLOR_BGR2GRAY)\n",
    "\n",
    "    blurred_image = cv2.GaussianBlur(grayscale_image, (5, 5), 0)\n",
    "\n",
    "    flattened_image = blurred_image.reshape((-1, 1))\n",
    "\n",
    "    isolation_forest = IsolationForest(contamination=0.03, random_state=42)\n",
    "    isolation_forest.fit(flattened_image)\n",
    "\n",
    "    anomaly = isolation_forest.predict(flattened_image)\n",
    "    anomaly = anomaly.reshape(blurred_image.shape)\n",
    "\n",
    "    threshold = -0.5\n",
    "    defect = anomaly < threshold\n",
    "\n",
    "    kernel = cv2.getStructuringElement(cv2.MORPH_ELLIPSE, (5, 5))\n",
    "    defect = cv2.morphologyEx(\n",
    "        defect.astype(np.uint8), cv2.MORPH_CLOSE, kernel)\n",
    "\n",
    "    masked_fabric_defect = fabric.copy()\n",
    "    masked_fabric_defect[defect == 0] = [0, 0, 255]\n",
    "\n",
    "    return masked_fabric_defect\n"
   ]
  },
  {
   "cell_type": "code",
   "execution_count": 3,
   "metadata": {},
   "outputs": [],
   "source": [
    "image_path = input(\"Enter Fabric image path: \")\n",
    "result_image = detect_and_localize_defects(image_path)\n",
    "\n",
    "image_name = image_path.split('/')[-1]\n",
    "cv2.imwrite('./Masked Fabric Defects/'+image_name, result_image)\n",
    "print(\"Masked image of defect saved at: ./Masked Fabric Defects/\"+image_name)"
   ]
  }
 ],
 "metadata": {
  "kernelspec": {
   "display_name": "Python 3",
   "language": "python",
   "name": "python3"
  },
  "language_info": {
   "codemirror_mode": {
    "name": "ipython",
    "version": 3
   },
   "file_extension": ".py",
   "mimetype": "text/x-python",
   "name": "python",
   "nbconvert_exporter": "python",
   "pygments_lexer": "ipython3",
   "version": "3.10.2"
  },
  "orig_nbformat": 4
 },
 "nbformat": 4,
 "nbformat_minor": 2
}
